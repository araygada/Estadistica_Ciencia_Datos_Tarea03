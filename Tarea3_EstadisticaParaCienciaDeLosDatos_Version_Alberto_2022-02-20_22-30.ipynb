{
 "cells": [
  {
   "cell_type": "markdown",
   "metadata": {
    "id": "jdtaAwa8XzNA"
   },
   "source": [
    "# Estadística para Ciencia de los Datos\n",
    "\n",
    "---\n",
    "\n",
    "\n",
    "\n",
    "# Tarea #3\n",
    "--- \n",
    "\n",
    "**Entregables:** Un archivo jupyter ( .IPYNB ). \n",
    "\n",
    "**Modo de trabajo:** Parejas\n",
    "\n",
    "**Estudiantes:**\n",
    "\n",
    "Yu Hung Yeh Chai\n",
    "\n",
    "José Alberto Raygada Agüero\n",
    "\n",
    "---\n",
    "Esta tarea se puede realizar en parejas si así lo desean. La presente asignación busca que los estudiantes apliquen intervalos de confianza como un medio para explorar los conjuntos de datos de la Tarea \\#2.  En esa tarea se pidió analizar un grupo de columnas en busca de las distribuciones que modelaban más adecuadamente cada una.\n",
    "\n",
    "Se pide a los estudiantes que seleccionen 2 columnas de variables cuantitativas del conjunto de datos y exploren intervalos de confianza y el contexto alrededor de ellos. \n",
    "\n",
    "Para toda esta tarea vamos a suponer que el set de datos de diamantes es nuestra población de interés. Partiendo de este supuesto, para ambas columnas obtenga el promedio poblacional y la desviación estándar poblacional.\n",
    "\n"
   ]
  },
  {
   "cell_type": "code",
   "execution_count": 1,
   "metadata": {},
   "outputs": [],
   "source": [
    "import pandas as pd\n",
    "import statistics as st\n",
    "import numpy as np\n",
    "import scipy.stats as stats\n",
    "import matplotlib.pyplot as plt\n",
    "\n",
    "#Funciones\n",
    "def bold(t):\n",
    "    \"\"\"\n",
    "    Funcion para formatear en negrita el texto.\n",
    "    t = cualquier dato\n",
    "    \"\"\"\n",
    "    return \"\\033[1m\" + str(t) + \"\\033[0m\"\n",
    "\n",
    "def newline():\n",
    "    \"\"\"\n",
    "    Funcion para imprimir cambio de linea\n",
    "    \"\"\"\n",
    "    print(\"\\r\\n\")\n",
    "    \n",
    "def titulo(t):\n",
    "    \"\"\"\n",
    "    Funcion para imprimir titulo formateado.\n",
    "    t = titulo\n",
    "    \"\"\"\n",
    "    print(bold(t))\n",
    "    print(\"----------------------------------------------\")\n",
    "    newline()\n",
    "\n",
    "def imprimirVariable(nombre, valor):\n",
    "    \"\"\"\n",
    "    Funcion para imprimir titulo formateado.\n",
    "    nombre = nombre de la variable\n",
    "    valor = el varlor de la variable\n",
    "    \"\"\"\n",
    "    print(bold(nombre), \": \", valor)\n",
    "\n",
    "def analisisIntervalosConfianza(datos, cantidadMuestra, alfa):\n",
    "    \"\"\"\n",
    "    Funcion que analiza intervalo de confianza de una muestra tomada de los datos y establece si incluye el promedio poblacional.\n",
    "    Entradas:\n",
    "    datos = datos origen para tomar la muestra\n",
    "    cantidadMuestra = tamaño de la muestra (n)\n",
    "    alfa = nivel de confianza (1 - alfa)\n",
    "    \"\"\"\n",
    "    \n",
    "    desviacionEstandarPoblacion = st.pstdev(datos)\n",
    "    mediaPoblacion = st.mean(datos)\n",
    "    \n",
    "    muestra = datos.sample(cantidadMuestra, random_state=None)\n",
    "    mediaMuestra = st.mean(muestra)\n",
    "    \n",
    "    z = stats.norm.ppf(alfa / 2)\n",
    "    e = z * desviacionEstandarPoblacion / np.sqrt(cantidadMuestra)\n",
    "    e1 = mediaMuestra + e\n",
    "    e2 = mediaMuestra - e\n",
    "    \n",
    "    imprimirVariable(\"Tamaño de la muestra\", cantidadMuestra)\n",
    "    imprimirVariable(\"Nivel de confianza\", 1 - alfa)\n",
    "    imprimirVariable(\"Margen de error\", np.abs(e))\n",
    "    imprimirVariable(\"Media de la Población\", mediaPoblacion)\n",
    "    imprimirVariable(\"Intervalo de confianza\", f\"[{e1}, {e2}]\")\n",
    "    \n",
    "    if e1 < mediaPoblacion < e2:\n",
    "        print(bold('Sí incluye promedio poblacional.'))\n",
    "    else:\n",
    "        print(bold('No incluye promedio poblacional.'))\n",
    "\n",
    "def obtenerCantidadMuestra(desviacionEstandarPoblacion, margenError, alfa):\n",
    "    \"\"\"\n",
    "    Funcion que devuelve el tamaño de muestra a partir de los otros datos para la formula de margen de error de una muestra.\n",
    "    Entradas:\n",
    "    desviacionEstandarPoblacion = desviacion estándar de la población\n",
    "    margenError = margen de error de la fórmula\n",
    "    alfa = nivel de confianza (1 - alfa)\n",
    "    \"\"\"\n",
    "    z = stats.norm.ppf(alfa / 2)\n",
    "    return np.round((desviacionEstandarPoblacion * z / margenError) ** 2, 0)\n",
    "\n",
    "def crearMediaMuestras(datos, cantidadMuestra, n):\n",
    "    \"\"\"\n",
    "    Funcion que devuelve una lista con la media de cada muestra de n observaciones a partir de datos dados.\n",
    "    Entradas:\n",
    "    datos = datos origen para tomar la muestra\n",
    "    cantidadMuestra = tamaño de la muestra\n",
    "    n = cantidad de observaciones de cada muestra\n",
    "    \"\"\"\n",
    "    \n",
    "    muestras = []\n",
    "    for x in range (cantidadMuestra):\n",
    "        muestra = datos.sample(n, random_state=None)\n",
    "        media = np.mean(muestra)\n",
    "        muestras.append(media)\n",
    "    return muestras\n",
    "\n",
    "def graficarMedias(mediasMuestral, mediaPoblacional):\n",
    "    \"\"\"\n",
    "    Funcion que grafica la media de varias muestras comparando con la media poblacion usando barras de error.\n",
    "    Entradas:\n",
    "    mediasMuestral = lista de medias de las muestras\n",
    "    mediaPoblacional = media de la población de datos\n",
    "    \"\"\"\n",
    "    labelX = list(range(1, len(mediasMuestral) + 1))\n",
    "    error = np.std(mediasMuestral)\n",
    "    \n",
    "    plt.errorbar(labelX, mediasMuestral, yerr = error, fmt = \"o\")\n",
    "    plt.axhline(y = mediaPoblacional, color=\"orange\", ls = \"--\", linewidth = 2, label = \"Media poblacional\")\n",
    "    \n",
    "    plt.legend()\n",
    "    plt.ylabel(\"Media Muestral\")\n",
    "    plt.xlabel(\"Muestras\")\n",
    "    \n",
    "    plt.show()\n",
    "    \n",
    "def histogramaMedias(mediasMuestral):\n",
    "    \"\"\"\n",
    "    Funcion que grafica histograma de la media de varias muestras.\n",
    "    Entradas:\n",
    "    mediasMuestral = lista de medias de las muestras\n",
    "    \"\"\"\n",
    "    count, bins, ignored = plt.hist(mediasMuestral, edgecolor = \"black\", linewidth = 1)\n",
    "    plt.ylabel(\"Frecuencia\")\n",
    "    plt.xlabel(\"Media Muestral\")\n",
    "    plt.show()"
   ]
  },
  {
   "cell_type": "code",
   "execution_count": 2,
   "metadata": {},
   "outputs": [
    {
     "data": {
      "text/html": [
       "<div>\n",
       "<style scoped>\n",
       "    .dataframe tbody tr th:only-of-type {\n",
       "        vertical-align: middle;\n",
       "    }\n",
       "\n",
       "    .dataframe tbody tr th {\n",
       "        vertical-align: top;\n",
       "    }\n",
       "\n",
       "    .dataframe thead th {\n",
       "        text-align: right;\n",
       "    }\n",
       "</style>\n",
       "<table border=\"1\" class=\"dataframe\">\n",
       "  <thead>\n",
       "    <tr style=\"text-align: right;\">\n",
       "      <th></th>\n",
       "      <th>carat</th>\n",
       "      <th>cut</th>\n",
       "      <th>color</th>\n",
       "      <th>clarity</th>\n",
       "      <th>depth</th>\n",
       "      <th>table</th>\n",
       "      <th>price</th>\n",
       "      <th>x</th>\n",
       "      <th>y</th>\n",
       "      <th>z</th>\n",
       "      <th>unknownCol</th>\n",
       "    </tr>\n",
       "  </thead>\n",
       "  <tbody>\n",
       "    <tr>\n",
       "      <th>0</th>\n",
       "      <td>0.32</td>\n",
       "      <td>Premium</td>\n",
       "      <td>J</td>\n",
       "      <td>VS2</td>\n",
       "      <td>61.9</td>\n",
       "      <td>58.0</td>\n",
       "      <td>504</td>\n",
       "      <td>4.38</td>\n",
       "      <td>4.35</td>\n",
       "      <td>2.70</td>\n",
       "      <td>5.100000</td>\n",
       "    </tr>\n",
       "    <tr>\n",
       "      <th>1</th>\n",
       "      <td>1.50</td>\n",
       "      <td>Good</td>\n",
       "      <td>F</td>\n",
       "      <td>SI2</td>\n",
       "      <td>62.9</td>\n",
       "      <td>59.0</td>\n",
       "      <td>7727</td>\n",
       "      <td>7.19</td>\n",
       "      <td>7.32</td>\n",
       "      <td>4.56</td>\n",
       "      <td>4.900000</td>\n",
       "    </tr>\n",
       "    <tr>\n",
       "      <th>2</th>\n",
       "      <td>0.38</td>\n",
       "      <td>Ideal</td>\n",
       "      <td>H</td>\n",
       "      <td>VS1</td>\n",
       "      <td>61.7</td>\n",
       "      <td>55.0</td>\n",
       "      <td>955</td>\n",
       "      <td>4.65</td>\n",
       "      <td>4.70</td>\n",
       "      <td>2.89</td>\n",
       "      <td>4.700000</td>\n",
       "    </tr>\n",
       "    <tr>\n",
       "      <th>3</th>\n",
       "      <td>0.53</td>\n",
       "      <td>Ideal</td>\n",
       "      <td>F</td>\n",
       "      <td>VVS1</td>\n",
       "      <td>62.1</td>\n",
       "      <td>53.2</td>\n",
       "      <td>2273</td>\n",
       "      <td>5.17</td>\n",
       "      <td>5.21</td>\n",
       "      <td>3.22</td>\n",
       "      <td>4.600000</td>\n",
       "    </tr>\n",
       "    <tr>\n",
       "      <th>4</th>\n",
       "      <td>0.55</td>\n",
       "      <td>Ideal</td>\n",
       "      <td>D</td>\n",
       "      <td>VS2</td>\n",
       "      <td>60.6</td>\n",
       "      <td>56.0</td>\n",
       "      <td>2224</td>\n",
       "      <td>5.30</td>\n",
       "      <td>5.36</td>\n",
       "      <td>3.23</td>\n",
       "      <td>5.000000</td>\n",
       "    </tr>\n",
       "    <tr>\n",
       "      <th>...</th>\n",
       "      <td>...</td>\n",
       "      <td>...</td>\n",
       "      <td>...</td>\n",
       "      <td>...</td>\n",
       "      <td>...</td>\n",
       "      <td>...</td>\n",
       "      <td>...</td>\n",
       "      <td>...</td>\n",
       "      <td>...</td>\n",
       "      <td>...</td>\n",
       "      <td>...</td>\n",
       "    </tr>\n",
       "    <tr>\n",
       "      <th>195</th>\n",
       "      <td>1.12</td>\n",
       "      <td>Premium</td>\n",
       "      <td>G</td>\n",
       "      <td>SI1</td>\n",
       "      <td>60.1</td>\n",
       "      <td>58.0</td>\n",
       "      <td>5233</td>\n",
       "      <td>6.78</td>\n",
       "      <td>6.83</td>\n",
       "      <td>4.09</td>\n",
       "      <td>6.763648</td>\n",
       "    </tr>\n",
       "    <tr>\n",
       "      <th>196</th>\n",
       "      <td>0.37</td>\n",
       "      <td>Ideal</td>\n",
       "      <td>D</td>\n",
       "      <td>VVS2</td>\n",
       "      <td>61.6</td>\n",
       "      <td>54.0</td>\n",
       "      <td>997</td>\n",
       "      <td>4.61</td>\n",
       "      <td>4.64</td>\n",
       "      <td>2.85</td>\n",
       "      <td>6.381457</td>\n",
       "    </tr>\n",
       "    <tr>\n",
       "      <th>197</th>\n",
       "      <td>0.30</td>\n",
       "      <td>Very Good</td>\n",
       "      <td>D</td>\n",
       "      <td>VVS2</td>\n",
       "      <td>60.6</td>\n",
       "      <td>58.0</td>\n",
       "      <td>2366</td>\n",
       "      <td>4.33</td>\n",
       "      <td>4.35</td>\n",
       "      <td>2.63</td>\n",
       "      <td>5.112152</td>\n",
       "    </tr>\n",
       "    <tr>\n",
       "      <th>198</th>\n",
       "      <td>2.18</td>\n",
       "      <td>Premium</td>\n",
       "      <td>J</td>\n",
       "      <td>VS2</td>\n",
       "      <td>60.1</td>\n",
       "      <td>58.0</td>\n",
       "      <td>15465</td>\n",
       "      <td>8.46</td>\n",
       "      <td>8.41</td>\n",
       "      <td>5.07</td>\n",
       "      <td>6.108909</td>\n",
       "    </tr>\n",
       "    <tr>\n",
       "      <th>199</th>\n",
       "      <td>0.32</td>\n",
       "      <td>Premium</td>\n",
       "      <td>I</td>\n",
       "      <td>VS2</td>\n",
       "      <td>62.2</td>\n",
       "      <td>59.0</td>\n",
       "      <td>449</td>\n",
       "      <td>4.35</td>\n",
       "      <td>4.37</td>\n",
       "      <td>2.71</td>\n",
       "      <td>5.415009</td>\n",
       "    </tr>\n",
       "  </tbody>\n",
       "</table>\n",
       "<p>200 rows × 11 columns</p>\n",
       "</div>"
      ],
      "text/plain": [
       "     carat        cut color clarity  depth  table  price     x     y     z  \\\n",
       "0     0.32    Premium     J     VS2   61.9   58.0    504  4.38  4.35  2.70   \n",
       "1     1.50       Good     F     SI2   62.9   59.0   7727  7.19  7.32  4.56   \n",
       "2     0.38      Ideal     H     VS1   61.7   55.0    955  4.65  4.70  2.89   \n",
       "3     0.53      Ideal     F    VVS1   62.1   53.2   2273  5.17  5.21  3.22   \n",
       "4     0.55      Ideal     D     VS2   60.6   56.0   2224  5.30  5.36  3.23   \n",
       "..     ...        ...   ...     ...    ...    ...    ...   ...   ...   ...   \n",
       "195   1.12    Premium     G     SI1   60.1   58.0   5233  6.78  6.83  4.09   \n",
       "196   0.37      Ideal     D    VVS2   61.6   54.0    997  4.61  4.64  2.85   \n",
       "197   0.30  Very Good     D    VVS2   60.6   58.0   2366  4.33  4.35  2.63   \n",
       "198   2.18    Premium     J     VS2   60.1   58.0  15465  8.46  8.41  5.07   \n",
       "199   0.32    Premium     I     VS2   62.2   59.0    449  4.35  4.37  2.71   \n",
       "\n",
       "     unknownCol  \n",
       "0      5.100000  \n",
       "1      4.900000  \n",
       "2      4.700000  \n",
       "3      4.600000  \n",
       "4      5.000000  \n",
       "..          ...  \n",
       "195    6.763648  \n",
       "196    6.381457  \n",
       "197    5.112152  \n",
       "198    6.108909  \n",
       "199    5.415009  \n",
       "\n",
       "[200 rows x 11 columns]"
      ]
     },
     "execution_count": 2,
     "metadata": {},
     "output_type": "execute_result"
    }
   ],
   "source": [
    "df = pd.read_csv(r'datasetTarea2.csv')\n",
    "df = pd.DataFrame(data=df)\n",
    "depth = df['depth']\n",
    "price = df['price']\n",
    "df"
   ]
  },
  {
   "cell_type": "markdown",
   "metadata": {},
   "source": [
    "## Parte 1\n",
    "\n",
    "Con estas medias poblacionales los estudiantes deberán, para ambas columnas:\n",
    "a) Seleccionar una muestra aleatoria con un $n$ = 25.\n",
    "b) Crear 1 intervalo de confianza para la media con un nivel de confianza de 90\\% e indique si incluye el promedio poblacional.(**10 puntos**)\n",
    "c) Igual que el anterior, con un nivel de confianza de 95% e indique si incluye el promedio poblacional. (**5 puntos**)\n",
    "d) Igual que el anterior, con una confianza de 99% e indique si incluye el promedio poblacional. (**5 puntos**)\n",
    "e) ¿Qué concluye de los intervalos de confianza anteriores? ¿Aumentan, disminuyen, se mantienen igual? Si hay cambios, ¿por qué ocurre esto? (**10 puntos**)\n"
   ]
  },
  {
   "cell_type": "markdown",
   "metadata": {},
   "source": [
    "## Parte 1 a)\n",
    "\n",
    "a) Seleccionar una muestra aleatoria con un $n$ = 25.\n",
    "\n",
    "Variable depth"
   ]
  },
  {
   "cell_type": "code",
   "execution_count": 3,
   "metadata": {},
   "outputs": [
    {
     "data": {
      "text/plain": [
       "120    60.3\n",
       "138    62.5\n",
       "26     60.1\n",
       "51     61.4\n",
       "150    61.1\n",
       "16     58.5\n",
       "68     60.9\n",
       "50     61.6\n",
       "181    62.4\n",
       "167    61.4\n",
       "88     62.5\n",
       "27     62.0\n",
       "162    61.5\n",
       "47     63.0\n",
       "36     63.1\n",
       "190    61.4\n",
       "128    63.2\n",
       "97     61.4\n",
       "178    56.9\n",
       "120    60.3\n",
       "17     61.6\n",
       "56     61.9\n",
       "23     62.7\n",
       "185    61.2\n",
       "93     62.1\n",
       "Name: depth, dtype: float64"
      ]
     },
     "execution_count": 3,
     "metadata": {},
     "output_type": "execute_result"
    }
   ],
   "source": [
    "# Selección de una muestra de la columna depth de tamaño n=25 con remplazo\n",
    "\n",
    "cantidadMuestra = 25\n",
    "\n",
    "muestra = depth.sample(n=cantidadMuestra, replace=True, random_state=None)\n",
    "muestra"
   ]
  },
  {
   "cell_type": "markdown",
   "metadata": {},
   "source": [
    "## Parte 1 b)\n",
    "\n",
    "b) Crear 1 intervalo de confianza para la media con un nivel de confianza de 90\\% e indique si incluye el promedio poblacional.(**10 puntos**)"
   ]
  },
  {
   "cell_type": "markdown",
   "metadata": {},
   "source": [
    "### Intervalos de confianza para $\\mu$, con $\\sigma$ conocido\n",
    "Basándonos en el teorema del límite central, procedemos a encontrar el intervalo en el cual la media poblacional $\\mu$ esté contenida\n",
    "con un  nivel de confianza de $1-\\alpha=0.90$, es decir con un $\\alpha=0.10.$ Cuando la desviación estándar de la población $\\sigma$ es desconocida, es necesario tomar una suposición sobre de la distribución de $X$. Una suposición frecuentemente razonable es asumir la distribución como **normal**. \n",
    "\n",
    "Dado que conocemos la desviación estándar de la población $\\sigma$, podemos sustituir $\\sigma_{\\overline{x}}=\\sigma/\\sqrt n$, y obtener:\n",
    "\n",
    "\\begin{equation}\n",
    "\\overline{x}\\pm\\frac{\\sigma\\, z_{\\alpha/2}}{\\sqrt{n}}\n",
    "\\end{equation}\n",
    "\n",
    "Para obtener el valor z debemos aplicar el proceso de **estandarización** de la observación de $\\overline{x}$:\n",
    "\n",
    "\\begin{equation}\n",
    "z=\\frac{\\overline{x}-\\mu_{\\overline{x}}}{\\sigma_\\overline{x}}\n",
    "\\end{equation}"
   ]
  },
  {
   "cell_type": "code",
   "execution_count": 4,
   "metadata": {},
   "outputs": [
    {
     "name": "stdout",
     "output_type": "stream",
     "text": [
      "\r\n",
      "\n",
      "\u001b[1mCálculo del intervalo de confianza para la variable depth\u001b[0m\n",
      "----------------------------------------------\n",
      "\r\n",
      "\n",
      "\u001b[1mTamaño de la muestra: \u001b[0m :  25\n",
      "\u001b[1mNivel de confianza: \u001b[0m :  0.9\n",
      "\u001b[1mMargen de error: \u001b[0m :  -0.46759644783690957\n",
      "\u001b[1mMedia de la población: \u001b[0m :  61.788\n",
      "\u001b[1mIntervalo de confianza\u001b[0m :  [61.37240355216309, 62.307596447836914]\n",
      "\u001b[1mSí incluye promedio poblacional.\u001b[0m\n",
      "\r\n",
      "\n",
      "\u001b[1mCálculo del intervalo de confianza para la variable price\u001b[0m\n",
      "----------------------------------------------\n",
      "\r\n",
      "\n",
      "\u001b[1mTamaño de la muestra\u001b[0m :  25\n",
      "\u001b[1mNivel de confianza\u001b[0m :  0.9\n",
      "\u001b[1mMargen de error\u001b[0m :  1274.7737501824636\n",
      "\u001b[1mMedia de la Población\u001b[0m :  3751.065\n",
      "\u001b[1mIntervalo de confianza\u001b[0m :  [3764.1062498175365, 6313.653750182464]\n",
      "\u001b[1mNo incluye promedio poblacional.\u001b[0m\n"
     ]
    }
   ],
   "source": [
    "newline()\n",
    "\n",
    "# Cálculo del intervalo de confianza para la variable depth con nivel de confianza del 90%\n",
    "titulo('Cálculo del intervalo de confianza para la variable depth')\n",
    "\n",
    "cantidadMuestra = 25\n",
    "imprimirVariable(\"Tamaño de la muestra: \", cantidadMuestra)\n",
    "\n",
    "# Se establece el nivel de confianza y el correspondiente valor de alfa\n",
    "valorConfianza = 0.9\n",
    "miAlfa = round(1 - valorConfianza,2)\n",
    "imprimirVariable(\"Nivel de confianza: \", valorConfianza)\n",
    "\n",
    "# Se calcula el promedio poblacional\n",
    "mediaPoblacion = st.mean(depth)\n",
    "\n",
    "# Se calcula la desviación estándar poblacional de depth\n",
    "desviacionEstandarPoblacion = st.pstdev(depth)\n",
    "\n",
    "# Se calcula la muestra y la media de la muestra\n",
    "muestra = depth.sample(cantidadMuestra, replace=True, random_state=None)\n",
    "mediaMuestra = st.mean(muestra)\n",
    "    \n",
    "# Se calcula el valor z para nuestra nivel de confianza (como valor absoluto)\n",
    "z = stats.norm.ppf(miAlfa / 2)\n",
    "\n",
    "# Con los datos anterior se procede a calcular el margen de error e\n",
    "e = z * desviacionEstandarPoblacion / np.sqrt(cantidadMuestra)\n",
    "imprimirVariable(\"Margen de error: \", e)\n",
    "imprimirVariable(\"Media de la población: \", mediaPoblacion)\n",
    "\n",
    "\n",
    "# Seguidamente se establecen los límites inferior y superior del intervalo de confianza\n",
    "intervaloConfianza = []\n",
    "e1 = mediaMuestra + e\n",
    "e2 = mediaMuestra - e\n",
    "imprimirVariable(\"Intervalo de confianza\", f\"[{e1}, {e2}]\")\n",
    "    \n",
    "# Se define si el intervalo incluye o no la media poblacional\n",
    "if e1 < mediaPoblacion < e2:\n",
    "    print(bold('Sí incluye promedio poblacional.'))\n",
    "elif e1 > mediaPoblacion > e2:\n",
    "    print(bold('No incluye promedio poblacional.'))\n",
    "\n",
    "# En lo sucesivo se utilizará la función \"analisisInvervalosconfianza()\" que integra el proceso detallado\n",
    "# en el punto anterior\n",
    "\n",
    "newline()\n",
    "\n",
    "# Cálculo del intervalo de confianza para la variable price con nivel de confianza del 90%\n",
    "titulo('Cálculo del intervalo de confianza para la variable price')\n",
    "\n",
    "analisisIntervalosConfianza(price, 25, miAlfa)"
   ]
  },
  {
   "cell_type": "markdown",
   "metadata": {},
   "source": [
    "## Parte 1 c)\n",
    "\n",
    "c) Igual que el anterior, con un nivel de confianza de 95% e indique si incluye el promedio poblacional. (**5 puntos**)\n"
   ]
  },
  {
   "cell_type": "code",
   "execution_count": 5,
   "metadata": {},
   "outputs": [
    {
     "name": "stdout",
     "output_type": "stream",
     "text": [
      "\u001b[1mCálculo del intervalo de confianza para la variable depth\u001b[0m\n",
      "----------------------------------------------\n",
      "\r\n",
      "\n",
      "\u001b[1mTamaño de la muestra\u001b[0m :  25\n",
      "\u001b[1mNivel de confianza\u001b[0m :  0.95\n",
      "\u001b[1mMargen de error\u001b[0m :  0.5571755334593327\n",
      "\u001b[1mMedia de la Población\u001b[0m :  61.788\n",
      "\u001b[1mIntervalo de confianza\u001b[0m :  [61.17482446654067, 62.28917553345933]\n",
      "\u001b[1mSí incluye promedio poblacional.\u001b[0m\n",
      "\r\n",
      "\n",
      "\u001b[1mCálculo del intervalo de confianza para la variable price\u001b[0m\n",
      "----------------------------------------------\n",
      "\r\n",
      "\n",
      "\u001b[1mTamaño de la muestra\u001b[0m :  25\n",
      "\u001b[1mNivel de confianza\u001b[0m :  0.95\n",
      "\u001b[1mMargen de error\u001b[0m :  1518.9866124594691\n",
      "\u001b[1mMedia de la Población\u001b[0m :  3751.065\n",
      "\u001b[1mIntervalo de confianza\u001b[0m :  [1678.413387540531, 4716.38661245947]\n",
      "\u001b[1mSí incluye promedio poblacional.\u001b[0m\n"
     ]
    }
   ],
   "source": [
    "valorConfianza = 0.95\n",
    "miAlfa = round(1 - valorConfianza,2)\n",
    "\n",
    "# Cálculo del intervalo de confianza para la variable depth con nivel de confianza del 95%\n",
    "titulo('Cálculo del intervalo de confianza para la variable depth')\n",
    "analisisIntervalosConfianza(depth, 25, miAlfa)\n",
    "\n",
    "# Cálculo del intervalo de confianza para la variable price con nivel de confianza del 90%\n",
    "newline()\n",
    "titulo('Cálculo del intervalo de confianza para la variable price')\n",
    "analisisIntervalosConfianza(price, 25, miAlfa)"
   ]
  },
  {
   "cell_type": "markdown",
   "metadata": {},
   "source": [
    "## Parte 1 d)\n",
    "\n",
    "d) Igual que el anterior, con una confianza de 99% e indique si incluye el promedio poblacional. (**5 puntos**)"
   ]
  },
  {
   "cell_type": "code",
   "execution_count": 6,
   "metadata": {},
   "outputs": [
    {
     "name": "stdout",
     "output_type": "stream",
     "text": [
      "\u001b[1mCálculo del intervalo de confianza para la variable depth\u001b[0m\n",
      "----------------------------------------------\n",
      "\r\n",
      "\n",
      "\u001b[1mTamaño de la muestra\u001b[0m :  25\n",
      "\u001b[1mNivel de confianza\u001b[0m :  0.99\n",
      "\u001b[1mMargen de error\u001b[0m :  0.7322527748599608\n",
      "\u001b[1mMedia de la Población\u001b[0m :  61.788\n",
      "\u001b[1mIntervalo de confianza\u001b[0m :  [60.47574722514004, 61.94025277485996]\n",
      "\u001b[1mSí incluye promedio poblacional.\u001b[0m\n",
      "\r\n",
      "\n",
      "\u001b[1mCálculo del intervalo de confianza para la variable price\u001b[0m\n",
      "----------------------------------------------\n",
      "\r\n",
      "\n",
      "\u001b[1mTamaño de la muestra\u001b[0m :  25\n",
      "\u001b[1mNivel de confianza\u001b[0m :  0.99\n",
      "\u001b[1mMargen de error\u001b[0m :  1996.2867986014353\n",
      "\u001b[1mMedia de la Población\u001b[0m :  3751.065\n",
      "\u001b[1mIntervalo de confianza\u001b[0m :  [760.6332013985648, 4753.206798601435]\n",
      "\u001b[1mSí incluye promedio poblacional.\u001b[0m\n"
     ]
    }
   ],
   "source": [
    "valorConfianza = 0.99\n",
    "miAlfa = round(1 - valorConfianza,2)\n",
    "\n",
    "# Cálculo del intervalo de confianza para la variable depth con nivel de confianza del 99%\n",
    "titulo('Cálculo del intervalo de confianza para la variable depth')\n",
    "analisisIntervalosConfianza(depth, 25, miAlfa)\n",
    "\n",
    "# Cálculo del intervalo de confianza para la variable depth con nivel de confianza del 99%\n",
    "newline()\n",
    "titulo('Cálculo del intervalo de confianza para la variable price')\n",
    "analisisIntervalosConfianza(price, 25, miAlfa)\n"
   ]
  },
  {
   "cell_type": "markdown",
   "metadata": {},
   "source": [
    "## Parte 1 e)\n",
    "\n",
    "e) ¿Qué concluye de los intervalos de confianza anteriores? ¿Aumentan, disminuyen, se mantienen igual? Si hay cambios, ¿por qué ocurre esto? (**10 puntos**)\n"
   ]
  },
  {
   "cell_type": "markdown",
   "metadata": {},
   "source": [
    "#### Conclusión\n",
    "\n",
    "Los intevalos tienden a aumentar conforme se amplía el nivel de confianza, pues al asegurar un mayor grado de probabilidad de que el promedio de la población se encuentre en el rango se debe sacrificar el nivel de exactitud. Por otro lado, tanto en el caso de la columna de datos 'depth' como en el de 'price' el resultado de si incluye o no el promedio poblacional siempre dio positivo, sin importar el cambio en el nivel de confianza de 90%, 95% y 99%, esto muestra que la dispersión de los datos es relativamente baja en ambas variables."
   ]
  },
  {
   "cell_type": "markdown",
   "metadata": {},
   "source": [
    "## Parte 2\n",
    "\n",
    "### 2.1 Analizar al menos 3 valores de $n$, es decir use al menos 3 muestras aleatorias de diferentes tamaños (por ejemplo 5, 20, 50). Explique que impacto tiene $n$ en el intervalo de confianza, además indique si se incluye o no el promedio poblacional en cada caso. En este caso use un nivel de confianza de 95\\% (**20 puntos**)"
   ]
  },
  {
   "cell_type": "code",
   "execution_count": 7,
   "metadata": {},
   "outputs": [
    {
     "name": "stdout",
     "output_type": "stream",
     "text": [
      "\u001b[1mAnálisis de la variable Depth\u001b[0m\n",
      "----------------------------------------------\n",
      "\r\n",
      "\n",
      "\u001b[1mTamaño de la muestra\u001b[0m :  5\n",
      "\u001b[1mNivel de confianza\u001b[0m :  0.95\n",
      "\u001b[1mMargen de error\u001b[0m :  1.2458823682147764\n",
      "\u001b[1mMedia de la Población\u001b[0m :  61.788\n",
      "\u001b[1mIntervalo de confianza\u001b[0m :  [60.31411763178522, 62.80588236821478]\n",
      "\u001b[1mSí incluye promedio poblacional.\u001b[0m\n",
      "\r\n",
      "\n",
      "\u001b[1mTamaño de la muestra\u001b[0m :  20\n",
      "\u001b[1mNivel de confianza\u001b[0m :  0.95\n",
      "\u001b[1mMargen de error\u001b[0m :  0.6229411841073882\n",
      "\u001b[1mMedia de la Población\u001b[0m :  61.788\n",
      "\u001b[1mIntervalo de confianza\u001b[0m :  [61.43705881589261, 62.68294118410739]\n",
      "\u001b[1mSí incluye promedio poblacional.\u001b[0m\n",
      "\r\n",
      "\n",
      "\u001b[1mTamaño de la muestra\u001b[0m :  50\n",
      "\u001b[1mNivel de confianza\u001b[0m :  0.95\n",
      "\u001b[1mMargen de error\u001b[0m :  0.39398259802032626\n",
      "\u001b[1mMedia de la Población\u001b[0m :  61.788\n",
      "\u001b[1mIntervalo de confianza\u001b[0m :  [61.61601740197967, 62.40398259802033]\n",
      "\u001b[1mSí incluye promedio poblacional.\u001b[0m\n"
     ]
    }
   ],
   "source": [
    "#Nivel de confianza de 95% entonces alfa es 0.05\n",
    "miAlfa = 0.05\n",
    "\n",
    "titulo(\"Análisis de la variable Depth\")\n",
    "\n",
    "analisisIntervalosConfianza(depth, 5, miAlfa)\n",
    "\n",
    "newline()\n",
    "\n",
    "analisisIntervalosConfianza(depth, 20, miAlfa)\n",
    "\n",
    "newline()\n",
    "\n",
    "analisisIntervalosConfianza(depth, 50, miAlfa)"
   ]
  },
  {
   "cell_type": "code",
   "execution_count": 8,
   "metadata": {},
   "outputs": [
    {
     "name": "stdout",
     "output_type": "stream",
     "text": [
      "\u001b[1mAnálisis de la variable Price\u001b[0m\n",
      "----------------------------------------------\n",
      "\r\n",
      "\n",
      "\u001b[1mTamaño de la muestra\u001b[0m :  5\n",
      "\u001b[1mNivel de confianza\u001b[0m :  0.95\n",
      "\u001b[1mMargen de error\u001b[0m :  3396.557322371502\n",
      "\u001b[1mMedia de la Población\u001b[0m :  3751.065\n",
      "\u001b[1mIntervalo de confianza\u001b[0m :  [2585.0426776284985, 9378.157322371502]\n",
      "\u001b[1mSí incluye promedio poblacional.\u001b[0m\n",
      "\r\n",
      "\n",
      "\u001b[1mTamaño de la muestra\u001b[0m :  20\n",
      "\u001b[1mNivel de confianza\u001b[0m :  0.95\n",
      "\u001b[1mMargen de error\u001b[0m :  1698.278661185751\n",
      "\u001b[1mMedia de la Población\u001b[0m :  3751.065\n",
      "\u001b[1mIntervalo de confianza\u001b[0m :  [1291.1713388142489, 4687.728661185751]\n",
      "\u001b[1mSí incluye promedio poblacional.\u001b[0m\n",
      "\r\n",
      "\n",
      "\u001b[1mTamaño de la muestra\u001b[0m :  50\n",
      "\u001b[1mNivel de confianza\u001b[0m :  0.95\n",
      "\u001b[1mMargen de error\u001b[0m :  1074.085734201673\n",
      "\u001b[1mMedia de la Población\u001b[0m :  3751.065\n",
      "\u001b[1mIntervalo de confianza\u001b[0m :  [2686.994265798327, 4835.165734201673]\n",
      "\u001b[1mSí incluye promedio poblacional.\u001b[0m\n"
     ]
    }
   ],
   "source": [
    "titulo(\"Análisis de la variable Price\")\n",
    "\n",
    "analisisIntervalosConfianza(price, 5, miAlfa)\n",
    "\n",
    "newline()\n",
    "\n",
    "analisisIntervalosConfianza(price, 20, miAlfa)\n",
    "\n",
    "newline()\n",
    "\n",
    "analisisIntervalosConfianza(price, 50, miAlfa)"
   ]
  },
  {
   "cell_type": "markdown",
   "metadata": {},
   "source": [
    "#### Conclusión\n",
    "\n",
    "Se puede notar conforme sube el tamaño de muestra (n), baja el margen de error.  Se puede concluir que el tamaño de la muestra  es inversamente proporcional al margen de error."
   ]
  },
  {
   "cell_type": "markdown",
   "metadata": {},
   "source": [
    "### 2.2 Establecer al menos 2 valores de margen de error $\\rho$ para la media y determinar cuál sería el tamaño de $n$ necesario para poder tener un nivel de confianza de 95\\% (**20 puntos**).  Recuerde que suponemos que el set de datos es nuestra población de interés.\n"
   ]
  },
  {
   "cell_type": "code",
   "execution_count": 9,
   "metadata": {},
   "outputs": [
    {
     "name": "stdout",
     "output_type": "stream",
     "text": [
      "\u001b[1mN a partir de un margen de error para Depth\u001b[0m\n",
      "----------------------------------------------\n",
      "\r\n",
      "\n",
      "\u001b[1mMargen de error\u001b[0m :  0.9\n",
      "\u001b[1mTamaño de muestra (N)\u001b[0m :  10.0\n",
      "\r\n",
      "\n",
      "\u001b[1mMargen de error\u001b[0m :  0.3\n",
      "\u001b[1mTamaño de muestra (N)\u001b[0m :  86.0\n"
     ]
    }
   ],
   "source": [
    "titulo(\"N a partir de un margen de error para Depth\")\n",
    "\n",
    "desviacionEstandarDepth = st.pstdev(depth)\n",
    "\n",
    "margenError = 0.9\n",
    "imprimirVariable(\"Margen de error\", margenError)\n",
    "imprimirVariable(\"Tamaño de muestra (N)\", obtenerCantidadMuestra(desviacionEstandarDepth, margenError, miAlfa))\n",
    "\n",
    "newline()\n",
    "\n",
    "margenError = 0.3\n",
    "imprimirVariable(\"Margen de error\", margenError)\n",
    "imprimirVariable(\"Tamaño de muestra (N)\", obtenerCantidadMuestra(desviacionEstandarDepth, margenError, miAlfa))"
   ]
  },
  {
   "cell_type": "code",
   "execution_count": 10,
   "metadata": {},
   "outputs": [
    {
     "name": "stdout",
     "output_type": "stream",
     "text": [
      "\u001b[1mN a partir de un margen de error para Price\u001b[0m\n",
      "----------------------------------------------\n",
      "\r\n",
      "\n",
      "\u001b[1mMargen de error\u001b[0m :  1500\n",
      "\u001b[1mTamaño de muestra (N)\u001b[0m :  26.0\n",
      "\r\n",
      "\n",
      "\u001b[1mMargen de error\u001b[0m :  550\n",
      "\u001b[1mTamaño de muestra (N)\u001b[0m :  191.0\n"
     ]
    }
   ],
   "source": [
    "titulo(\"N a partir de un margen de error para Price\")\n",
    "\n",
    "desviacionEstandarPrice = st.pstdev(price)\n",
    "\n",
    "margenError = 1500\n",
    "imprimirVariable(\"Margen de error\", margenError)\n",
    "imprimirVariable(\"Tamaño de muestra (N)\", obtenerCantidadMuestra(desviacionEstandarPrice, margenError, miAlfa))\n",
    "\n",
    "newline()\n",
    "\n",
    "margenError = 550\n",
    "imprimirVariable(\"Margen de error\", margenError)\n",
    "imprimirVariable(\"Tamaño de muestra (N)\", obtenerCantidadMuestra(desviacionEstandarPrice, margenError, miAlfa))"
   ]
  },
  {
   "cell_type": "markdown",
   "metadata": {},
   "source": [
    "#### Conclusión\n",
    "\n",
    "Se puede notar inclusive en este ejercicio que se cumple lo concluido en 2.1. El tamaño de la muestra es inversamente proporcional al margen de error."
   ]
  },
  {
   "cell_type": "markdown",
   "metadata": {},
   "source": [
    "## Parte 3\n",
    "\n",
    "Por último, se pide a los estudiantes que para ambas columnas realicen lo siguiente:\n",
    "\n",
    "### 3.1 Seleccionar 16 muestras aleatorias con número de observaciones $n=10$. Repita lo mismo con $n=25$. "
   ]
  },
  {
   "cell_type": "code",
   "execution_count": 11,
   "metadata": {},
   "outputs": [
    {
     "name": "stdout",
     "output_type": "stream",
     "text": [
      "\u001b[1mMedia de 16 muestras con 10 observaciones de depth\u001b[0m\n",
      "----------------------------------------------\n",
      "\r\n",
      "\n",
      "[61.910000000000004, 60.79, 62.2, 62.56, 62.71999999999999, 62.17, 61.33, 63.0, 61.45, 62.39, 61.96999999999999, 61.29, 62.33, 62.92, 61.589999999999996, 61.2]\n"
     ]
    }
   ],
   "source": [
    "titulo(\"Media de 16 muestras con 10 observaciones de depth\")\n",
    "\n",
    "mediaMuestras10Depth = crearMediaMuestras(depth, 16, 10)\n",
    "print(mediaMuestras10Depth)"
   ]
  },
  {
   "cell_type": "code",
   "execution_count": 12,
   "metadata": {},
   "outputs": [
    {
     "name": "stdout",
     "output_type": "stream",
     "text": [
      "\u001b[1mMedia de 16 muestras con 25 observaciones de depth\u001b[0m\n",
      "----------------------------------------------\n",
      "\r\n",
      "\n",
      "[62.004, 61.48799999999999, 61.79599999999999, 62.083999999999996, 61.556000000000004, 61.82, 62.236, 62.023999999999994, 61.776, 62.028, 61.644, 61.732, 61.992000000000004, 61.99199999999999, 61.744, 61.652]\n"
     ]
    }
   ],
   "source": [
    "titulo(\"Media de 16 muestras con 25 observaciones de depth\")\n",
    "\n",
    "mediaMuestras25Depth = crearMediaMuestras(depth, 16, 25)\n",
    "print(mediaMuestras25Depth)"
   ]
  },
  {
   "cell_type": "code",
   "execution_count": 13,
   "metadata": {},
   "outputs": [
    {
     "name": "stdout",
     "output_type": "stream",
     "text": [
      "\u001b[1mMedia de 16 muestras con 10 observaciones de price\u001b[0m\n",
      "----------------------------------------------\n",
      "\n",
      "\n",
      "[2141.9, 2941.4, 6052.5, 4883.2, 3810.7, 2845.3, 4316.3, 1889.2, 1923.9, 3727.9, 3789.2, 5106.3, 1988.5, 1840.0, 3193.3, 4431.8]\n"
     ]
    }
   ],
   "source": [
    "titulo(\"Media de 16 muestras con 10 observaciones de price\")\n",
    "\n",
    "mediaMuestras10Price = crearMediaMuestras(price, 16, 10)\n",
    "print(mediaMuestras10Price)"
   ]
  },
  {
   "cell_type": "code",
   "execution_count": 14,
   "metadata": {},
   "outputs": [
    {
     "name": "stdout",
     "output_type": "stream",
     "text": [
      "\u001b[1mMedia de 16 muestras con 25 observaciones de price\u001b[0m\n",
      "----------------------------------------------\n",
      "\r\n",
      "\n",
      "[4381.44, 2649.88, 3281.68, 2787.68, 3980.56, 5818.48, 3734.88, 3802.12, 3186.44, 3544.36, 3326.84, 3798.76, 4604.44, 4199.44, 3794.84, 2621.12]\n"
     ]
    }
   ],
   "source": [
    "titulo(\"Media de 16 muestras con 25 observaciones de price\")\n",
    "\n",
    "mediaMuestras25Price = crearMediaMuestras(price, 16, 25)\n",
    "print(mediaMuestras25Price)"
   ]
  },
  {
   "cell_type": "markdown",
   "metadata": {},
   "source": [
    "### 3.2 Graficar la comparación del promedio de cada una de las muestras de 10 observaciones con la media poblacional.(pueden usar `scatter` de `matplotlib` con barras de error, como en el siguiente ejemplo). Repita lo mismo con $n=25$. (**15 puntos**)\n",
    "![](https://drive.google.com/uc?id=1q4Gs2Z3LSKk3HvtWJbe926-4Hma2eOLh)"
   ]
  },
  {
   "cell_type": "code",
   "execution_count": 15,
   "metadata": {},
   "outputs": [
    {
     "name": "stdout",
     "output_type": "stream",
     "text": [
      "\u001b[1mMedia de 16 muestras con 10 observaciones de depth\u001b[0m\n",
      "----------------------------------------------\n",
      "\r\n",
      "\n"
     ]
    },
    {
     "data": {
      "image/png": "[encoded data removed]",
      "text/plain": [
       "<Figure size 432x288 with 1 Axes>"
      ]
     },
     "metadata": {
      "needs_background": "light"
     },
     "output_type": "display_data"
    }
   ],
   "source": [
    "titulo(\"Media de 16 muestras con 10 observaciones de depth\")\n",
    "\n",
    "mediaDepth = st.mean(depth)\n",
    "graficarMedias(mediaMuestras10Depth, mediaDepth) "
   ]
  },
  {
   "cell_type": "code",
   "execution_count": 16,
   "metadata": {},
   "outputs": [
    {
     "name": "stdout",
     "output_type": "stream",
     "text": [
      "\u001b[1mMedia de 16 muestras con 25 observaciones de depth\u001b[0m\n",
      "----------------------------------------------\n",
      "\r\n",
      "\n"
     ]
    },
    {
     "data": {
      "image/png": "[encoded data removed]",
      "text/plain": [
       "<Figure size 432x288 with 1 Axes>"
      ]
     },
     "metadata": {
      "needs_background": "light"
     },
     "output_type": "display_data"
    }
   ],
   "source": [
    "titulo(\"Media de 16 muestras con 25 observaciones de depth\")\n",
    "\n",
    "graficarMedias(mediaMuestras25Depth, mediaDepth) "
   ]
  },
  {
   "cell_type": "code",
   "execution_count": 17,
   "metadata": {},
   "outputs": [
    {
     "name": "stdout",
     "output_type": "stream",
     "text": [
      "\u001b[1mMedia de 16 muestras con 10 observaciones de price\u001b[0m\n",
      "----------------------------------------------\n",
      "\r\n",
      "\n"
     ]
    },
    {
     "data": {
      "image/png": "[encoded data removed]",
      "text/plain": [
       "<Figure size 432x288 with 1 Axes>"
      ]
     },
     "metadata": {
      "needs_background": "light"
     },
     "output_type": "display_data"
    }
   ],
   "source": [
    "titulo(\"Media de 16 muestras con 10 observaciones de price\")\n",
    "\n",
    "mediaPrice = st.mean(price)\n",
    "graficarMedias(mediaMuestras10Price, mediaPrice) "
   ]
  },
  {
   "cell_type": "code",
   "execution_count": 18,
   "metadata": {},
   "outputs": [
    {
     "name": "stdout",
     "output_type": "stream",
     "text": [
      "\u001b[1mMedia de 16 muestras con 25 observaciones de price\u001b[0m\n",
      "----------------------------------------------\n",
      "\r\n",
      "\n"
     ]
    },
    {
     "data": {
      "image/png": "[encoded data removed]",
      "text/plain": [
       "<Figure size 432x288 with 1 Axes>"
      ]
     },
     "metadata": {
      "needs_background": "light"
     },
     "output_type": "display_data"
    }
   ],
   "source": [
    "titulo(\"Media de 16 muestras con 25 observaciones de price\")\n",
    "\n",
    "mediaPrice = st.mean(price)\n",
    "graficarMedias(mediaMuestras25Price, mediaPrice) "
   ]
  },
  {
   "cell_type": "markdown",
   "metadata": {},
   "source": [
    "### 3.3 Graficar un histograma que ilustre la distribución de las medias muestrales de $n=10$ observaciones. Repita lo mismo con $n=25$. ¿Qué diferencia encuentra entre ambos histogramas?(**15 puntos**)\n",
    "\n",
    "Nótese que los apartados anteriores deben desarrollarse 2 veces. Una vez por cada columna.\n",
    "\n",
    "Como ha sido costumbre, se espera que los estudiantes entreguen un notebook de colab con tanto nivel de detalle como sea posible. La calificación de cada apartado depende que los estudiantes hayan logrado demostrar con claridad y detalle lo planteado en cada punto.\n",
    "\n",
    "Los estudiantes deberán realizar la entrega a través de TEC Digital a más tardar el día 24 de febrero a las 11:59 PM."
   ]
  },
  {
   "cell_type": "code",
   "execution_count": 19,
   "metadata": {},
   "outputs": [
    {
     "name": "stdout",
     "output_type": "stream",
     "text": [
      "\u001b[1mMedia de 16 muestras con 10 observaciones de depth\u001b[0m\n",
      "----------------------------------------------\n",
      "\r\n",
      "\n"
     ]
    },
    {
     "data": {
      "image/png": "[encoded data removed]",
      "text/plain": [
       "<Figure size 432x288 with 1 Axes>"
      ]
     },
     "metadata": {
      "needs_background": "light"
     },
     "output_type": "display_data"
    }
   ],
   "source": [
    "titulo(\"Media de 16 muestras con 10 observaciones de depth\")\n",
    "\n",
    "histogramaMedias(mediaMuestras10Depth)"
   ]
  },
  {
   "cell_type": "code",
   "execution_count": 20,
   "metadata": {},
   "outputs": [
    {
     "name": "stdout",
     "output_type": "stream",
     "text": [
      "\u001b[1mMedia de 16 muestras con 25 observaciones de depth\u001b[0m\n",
      "----------------------------------------------\n",
      "\r\n",
      "\n"
     ]
    },
    {
     "data": {
      "image/png": "[encoded data removed]",
      "text/plain": [
       "<Figure size 432x288 with 1 Axes>"
      ]
     },
     "metadata": {
      "needs_background": "light"
     },
     "output_type": "display_data"
    }
   ],
   "source": [
    "titulo(\"Media de 16 muestras con 25 observaciones de depth\")\n",
    "\n",
    "histogramaMedias(mediaMuestras25Depth) "
   ]
  },
  {
   "cell_type": "code",
   "execution_count": 21,
   "metadata": {},
   "outputs": [
    {
     "name": "stdout",
     "output_type": "stream",
     "text": [
      "\u001b[1mMedia de 16 muestras con 10 observaciones de price\u001b[0m\n",
      "----------------------------------------------\n",
      "\r\n",
      "\n"
     ]
    },
    {
     "data": {
      "image/png": "[encoded data removed]",
      "text/plain": [
       "<Figure size 432x288 with 1 Axes>"
      ]
     },
     "metadata": {
      "needs_background": "light"
     },
     "output_type": "display_data"
    }
   ],
   "source": [
    "titulo(\"Media de 16 muestras con 10 observaciones de price\")\n",
    "\n",
    "histogramaMedias(mediaMuestras10Price) "
   ]
  },
  {
   "cell_type": "code",
   "execution_count": 22,
   "metadata": {},
   "outputs": [
    {
     "name": "stdout",
     "output_type": "stream",
     "text": [
      "\u001b[1mMedia de 16 muestras con 25 observaciones de price\u001b[0m\n",
      "----------------------------------------------\n",
      "\r\n",
      "\n"
     ]
    },
    {
     "data": {
      "image/png": "[encoded data removed]",
      "text/plain": [
       "<Figure size 432x288 with 1 Axes>"
      ]
     },
     "metadata": {
      "needs_background": "light"
     },
     "output_type": "display_data"
    }
   ],
   "source": [
    "titulo(\"Media de 16 muestras con 25 observaciones de price\")\n",
    "\n",
    "histogramaMedias(mediaMuestras25Price)"
   ]
  },
  {
   "cell_type": "markdown",
   "metadata": {},
   "source": [
    "#### Conclusión\n",
    "\n",
    "Se puede notar en los histogramas que entre mayor número de muestras se empieza a forma la campana de Gauss.  Esto se debe al teorema del límite central, que indica las medias muestrales siguen una distribución normal entre mayor es el tamaño de la muestra (N), sin importar si los datos provienen de otras distribuciones.  Es importante recalcar que depth en la tarea anterior se pudo concluir que proviene de una distribución T-student y normal, y price proviene de una distribución exponencial."
   ]
  },
  {
   "cell_type": "code",
   "execution_count": null,
   "metadata": {},
   "outputs": [],
   "source": []
  }
 ],
 "metadata": {
  "colab": {
   "collapsed_sections": [],
   "name": "Tarea3_EstadisticaParaCienciaDeLosDatos.ipynb",
   "provenance": []
  },
  "kernelspec": {
   "display_name": "Python 3 (ipykernel)",
   "language": "python",
   "name": "python3"
  },
  "language_info": {
   "codemirror_mode": {
    "name": "ipython",
    "version": 3
   },
   "file_extension": ".py",
   "mimetype": "text/x-python",
   "name": "python",
   "nbconvert_exporter": "python",
   "pygments_lexer": "ipython3",
   "version": "3.10.2"
  }
 },
 "nbformat": 4,
 "nbformat_minor": 1
}
